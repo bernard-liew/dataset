{
  "nbformat": 4,
  "nbformat_minor": 0,
  "metadata": {
    "colab": {
      "name": ".ipynb",
      "provenance": [],
      "collapsed_sections": [],
      "machine_shape": "hm"
    },
    "kernelspec": {
      "display_name": "Python 3",
      "name": "python3"
    },
    "language_info": {
      "name": "python"
    },
    "accelerator": "GPU"
  },
  "cells": [
    {
      "cell_type": "code",
      "metadata": {
        "colab": {
          "base_uri": "https://localhost:8080/"
        },
        "id": "UxeMuooMfdlH",
        "outputId": "60f9f2ea-3228-48e1-ce21-fd6a99113af5"
      },
      "source": [
        "from google.colab import drive\n",
        "drive.mount('/content/drive')"
      ],
      "execution_count": 2,
      "outputs": [
        {
          "output_type": "stream",
          "name": "stdout",
          "text": [
            "Mounted at /content/drive\n"
          ]
        }
      ]
    },
    {
      "cell_type": "code",
      "metadata": {
        "id": "VotAyJEoq9BG"
      },
      "source": [
        "!pip install -Uqq tsa"
      ],
      "execution_count": null,
      "outputs": []
    },
    {
      "cell_type": "code",
      "metadata": {
        "id": "YnrI_fHMffYd"
      },
      "source": [
        "import pandas as pd\n",
        "import numpy as np\n",
        "import matplotlib.pyplot as plt\n",
        "#from tsai.all import *\n",
        "import math"
      ],
      "execution_count": 7,
      "outputs": []
    },
    {
      "cell_type": "code",
      "metadata": {
        "id": "Z17JAMY-wNnc"
      },
      "source": [
        "from keras.models import Sequential\n",
        "from keras.layers import Dense\n",
        "from keras.layers import Flatten\n",
        "from keras.layers import Dropout\n",
        "from keras.layers import LSTM\n",
        "from keras.layers.normalization import BatchNormalization\n",
        "from keras.models import Sequential\n",
        "from keras.layers import Dense\n",
        "from keras.layers import Flatten\n",
        "from keras.layers import LSTM\n",
        "from keras.layers import Dense, Dropout, Activation, Flatten\n",
        "from keras.layers import Conv2D, MaxPooling2D, Conv1D, MaxPooling1D"
      ],
      "execution_count": null,
      "outputs": []
    },
    {
      "cell_type": "markdown",
      "source": [
        "load the preprocessed dataset "
      ],
      "metadata": {
        "id": "tj2xrWvXMmAW"
      }
    },
    {
      "cell_type": "code",
      "metadata": {
        "id": "Q5rbg4UHDVdk"
      },
      "source": [
        "import h5py\n",
        "hf = h5py.File('/content/drive/MyDrive/Bernaed2/data_int.h5', 'r')\n",
        "x= hf.get('X')\n",
        "Y = hf.get('y')"
      ],
      "execution_count": 5,
      "outputs": []
    },
    {
      "cell_type": "markdown",
      "metadata": {
        "id": "pIZn7gAJyEOW"
      },
      "source": [
        "Train test splits"
      ]
    },
    {
      "cell_type": "code",
      "metadata": {
        "id": "X1is9-ftanWL",
        "colab": {
          "base_uri": "https://localhost:8080/"
        },
        "outputId": "06fa5d56-66c8-4089-dc7e-fd2d7d0aef11"
      },
      "source": [
        "X = np.moveaxis(np.array(x), -1, 1)\n",
        "#X = np.expand_dims(x, axis=3)\n",
        "from sklearn.model_selection import train_test_split\n",
        "X_train, X_test, y_train, y_test = train_test_split(np.array(X), np.array(Y), test_size=0.25, random_state=42)\n",
        "X_train.shape,y_train.shape,X_test.shape,y_train.shape"
      ],
      "execution_count": 12,
      "outputs": [
        {
          "output_type": "execute_result",
          "data": {
            "text/plain": [
              "((5052, 100, 126), (5052, 1), (1685, 100, 126), (5052, 1))"
            ]
          },
          "metadata": {},
          "execution_count": 12
        }
      ]
    },
    {
      "cell_type": "markdown",
      "metadata": {
        "id": "i9N6ynOoyeR6"
      },
      "source": [
        "Regression models"
      ]
    },
    {
      "cell_type": "code",
      "metadata": {
        "id": "Fdw2SFV4yI_B"
      },
      "source": [
        "model = Sequential()\n",
        "#model.add(Dense(256, activation='relu', input_dim=366))\n",
        "model.add(Conv2D(64, (3, 3), activation='relu', input_shape = X_train[0].shape))\n",
        "\n",
        "model.add(Conv2D(128, (3, 3), activation='relu'))\n",
        "\n",
        "\n",
        "model.add(MaxPooling2D(pool_size=(2, 2)))\n",
        "\n",
        "model.add(Flatten())\n",
        "\n",
        "model.add(Dense(512, activation='relu'))\n",
        "model.add(Dropout(0.1))\n",
        "\n",
        "model.add(Dense(256, activation='relu'))\n",
        "model.add(Dense(128, activation='relu'))\n",
        "\n",
        "model.add(Dense(1, activation='linear'))\n",
        "\n",
        "\n",
        "model.compile(loss='mean_squared_error', # one may use 'mean_absolute_error' as  mean_squared_error\n",
        "                  optimizer='adam',\n",
        "                  metrics=['mse', 'mae', 'mape'] # you can add several if needed\n",
        "                 )\n",
        "\n",
        "model.summary()"
      ],
      "execution_count": null,
      "outputs": []
    },
    {
      "cell_type": "code",
      "metadata": {
        "id": "aywnVlEtySBG"
      },
      "source": [
        "model.fit(X_train, y_train, batch_size=64, epochs=100, verbose=1, validation_data=(X_test, y_test) )"
      ],
      "execution_count": null,
      "outputs": []
    },
    {
      "cell_type": "code",
      "metadata": {
        "id": "gWq8CL2vcRpV"
      },
      "source": [
        "X, y, splits = combine_split_data([X_train, X_test], [y_train, y_test])"
      ],
      "execution_count": null,
      "outputs": []
    },
    {
      "cell_type": "code",
      "metadata": {
        "id": "hhAkSbKZc8LF"
      },
      "source": [
        "tfms  = [None, [TSRegression()]]\n",
        "\n",
        "dls = get_ts_dls(X, y, splits=splits, tfms=tfms, bs=128)"
      ],
      "execution_count": null,
      "outputs": []
    },
    {
      "cell_type": "code",
      "metadata": {
        "id": "ZIjxvKzscwHW"
      },
      "source": [
        "learn = ts_learner(dls, InceptionTime, metrics=[mae, rmse], cbs=ShowGraph())\n",
        "learn.lr_find()"
      ],
      "execution_count": null,
      "outputs": []
    },
    {
      "cell_type": "code",
      "metadata": {
        "id": "YDt1DtuPdhKM"
      },
      "source": [
        "learn.fit_one_cycle(10, lr_max=slice(1e-3,1e-1), cbs=ShowGraph())"
      ],
      "execution_count": null,
      "outputs": []
    },
    {
      "cell_type": "code",
      "metadata": {
        "id": "XEHJk_0ujDNj"
      },
      "source": [
        "learn.fit_one_cycle(10, lr_max=slice(1e-3,1e-1), cbs=ShowGraph())"
      ],
      "execution_count": null,
      "outputs": []
    },
    {
      "cell_type": "code",
      "metadata": {
        "id": "jLQ4BJHMkCt-"
      },
      "source": [
        "learn.lr_find()"
      ],
      "execution_count": null,
      "outputs": []
    },
    {
      "cell_type": "code",
      "metadata": {
        "id": "JU6QNZ4akJDZ"
      },
      "source": [
        "learn.fit_one_cycle(3, lr_max=slice(3e-5,2e-4), cbs=ShowGraph())"
      ],
      "execution_count": null,
      "outputs": []
    },
    {
      "cell_type": "code",
      "metadata": {
        "id": "XnnFosUieNEr"
      },
      "source": [
        "learn2 = ts_learner(dls, InceptionTime, metrics=[mae, rmse], cbs=ShowGraph())\n",
        "learn2.unfreeze()"
      ],
      "execution_count": null,
      "outputs": []
    },
    {
      "cell_type": "code",
      "metadata": {
        "id": "VZ4X_Am-ejxe"
      },
      "source": [
        "learn2.lr_find()"
      ],
      "execution_count": null,
      "outputs": []
    },
    {
      "cell_type": "code",
      "metadata": {
        "id": "KgcTLBnXewBs"
      },
      "source": [
        "learn2.fit_one_cycle(10, lr_max=slice(7e-3,1e-1), cbs=ShowGraph())"
      ],
      "execution_count": null,
      "outputs": []
    },
    {
      "cell_type": "code",
      "metadata": {
        "id": "BDqd-Lg9fQkE"
      },
      "source": [
        "learn3 = ts_learner(dls, XceptionTime, metrics=[mae, rmse], cbs=ShowGraph())\n",
        "learn3.lr_find()"
      ],
      "execution_count": null,
      "outputs": []
    },
    {
      "cell_type": "code",
      "metadata": {
        "id": "SzOXIUQNfQxz"
      },
      "source": [
        "learn3.fit_one_cycle(10,  cbs=ShowGraph())"
      ],
      "execution_count": null,
      "outputs": []
    },
    {
      "cell_type": "code",
      "metadata": {
        "id": "a90oWIw2fQ1Z"
      },
      "source": [
        "learn4 = ts_learner(dls, RNN_FCN, metrics=[mae, rmse], cbs=ShowGraph())\n",
        "learn4.lr_find()\n"
      ],
      "execution_count": null,
      "outputs": []
    },
    {
      "cell_type": "code",
      "metadata": {
        "id": "agpTsxBDgmG-"
      },
      "source": [
        "learn4.fit_one_cycle(10,  lr_max=slice(2e-3,1e-1), cbs=ShowGraph())"
      ],
      "execution_count": null,
      "outputs": []
    },
    {
      "cell_type": "code",
      "metadata": {
        "id": "AWJHNLnDg26N"
      },
      "source": [
        "learn.show_results(max_n=9)"
      ],
      "execution_count": null,
      "outputs": []
    },
    {
      "cell_type": "code",
      "metadata": {
        "id": "HVJMNePHly8U"
      },
      "source": [
        "learn.show_results(max_n=9)"
      ],
      "execution_count": null,
      "outputs": []
    },
    {
      "cell_type": "code",
      "metadata": {
        "id": "SoQKrC9BhAkb"
      },
      "source": [
        "learn.show_results(max_n=9)"
      ],
      "execution_count": null,
      "outputs": []
    },
    {
      "cell_type": "code",
      "metadata": {
        "id": "4tTIiULvhJKW"
      },
      "source": [
        "learn5 = ts_learner(dls, ResNet, metrics=[mae, rmse], cbs=ShowGraph())\n",
        "learn5.lr_find()"
      ],
      "execution_count": null,
      "outputs": []
    },
    {
      "cell_type": "code",
      "metadata": {
        "id": "miNHUIoahJab"
      },
      "source": [
        "learn5.fit_one_cycle(10,  lr_max=slice(2e-3,1e-1), cbs=ShowGraph())"
      ],
      "execution_count": null,
      "outputs": []
    },
    {
      "cell_type": "code",
      "metadata": {
        "id": "plNFGUU0hpFn"
      },
      "source": [
        "tfms  = [None, [TSRegression()]]\n",
        "batch_tfms = [TSNormalize(),TSToGADF(300)]\n",
        "dsets1 = TSDatasets(X, y, tfms=tfms, splits=splits)\n",
        "dls1 = TSDataLoaders.from_dsets(dsets1.train, dsets1.valid, bs=[16,32], batch_tfms=batch_tfms)"
      ],
      "execution_count": null,
      "outputs": []
    },
    {
      "cell_type": "code",
      "metadata": {
        "id": "FIco3ZdEhpU9"
      },
      "source": [
        "model = create_model(xresnet18, dls=dls1)\n",
        "learn6 = Learner(dls1, model,  metrics=[mae, rmse])"
      ],
      "execution_count": null,
      "outputs": []
    },
    {
      "cell_type": "code",
      "metadata": {
        "id": "O9xVsTO7iNFP"
      },
      "source": [
        "learn6.lr_find()"
      ],
      "execution_count": null,
      "outputs": []
    },
    {
      "cell_type": "code",
      "metadata": {
        "id": "EoNSZi2fiNJJ"
      },
      "source": [
        "learn6.fit_one_cycle(10,  lr_max=slice(3e-3,8e-1), cbs=ShowGraph())"
      ],
      "execution_count": null,
      "outputs": []
    },
    {
      "cell_type": "code",
      "metadata": {
        "id": "DosDryGwsIEO"
      },
      "source": [
        "tfms  = [None, [TSRegression()]]\n",
        "batch_tfms = [TSNormalize(),TSToGADF(400)]\n",
        "dsets2 = TSDatasets(X, y, tfms=tfms, splits=splits)\n",
        "dls2 = TSDataLoaders.from_dsets(dsets2.train, dsets2.valid, bs=[16,32], batch_tfms=batch_tfms)"
      ],
      "execution_count": null,
      "outputs": []
    },
    {
      "cell_type": "code",
      "metadata": {
        "id": "c0rfp8R2sIRT"
      },
      "source": [
        "model7 = create_model(xresnet18, dls=dls2)\n",
        "learn7 = Learner(dls2, model7,  metrics=[mae, rmse])"
      ],
      "execution_count": null,
      "outputs": []
    },
    {
      "cell_type": "code",
      "metadata": {
        "id": "YfUkedOYll3N"
      },
      "source": [
        "learn7.lr_find()"
      ],
      "execution_count": null,
      "outputs": []
    },
    {
      "cell_type": "code",
      "metadata": {
        "id": "P7E_lKyulf-n"
      },
      "source": [
        "learn7.fit_one_cycle(10,  lr_max=slice(3e-3,8e-1), cbs=ShowGraph())"
      ],
      "execution_count": null,
      "outputs": []
    },
    {
      "cell_type": "code",
      "metadata": {
        "colab": {
          "base_uri": "https://localhost:8080/"
        },
        "id": "eeejEZSxrcgG",
        "outputId": "2e463a05-0d7e-42e9-8e9a-db24659fc28c"
      },
      "source": [
        "import scipy\n",
        "print(scipy.__version__)"
      ],
      "execution_count": null,
      "outputs": [
        {
          "output_type": "stream",
          "name": "stdout",
          "text": [
            "1.4.1\n"
          ]
        }
      ]
    }
  ]
}